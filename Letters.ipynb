{
  "nbformat": 4,
  "nbformat_minor": 0,
  "metadata": {
    "colab": {
      "name": "ConvNet_example_1.ipynb",
      "provenance": [],
      "collapsed_sections": [],
      "include_colab_link": true
    },
    "kernelspec": {
      "display_name": "Python 3",
      "name": "python3"
    }
  },
  "cells": [
    {
      "cell_type": "markdown",
      "metadata": {
        "id": "view-in-github",
        "colab_type": "text"
      },
      "source": [
        "<a href=\"https://colab.research.google.com/github/olusho101/CaseStudy2DDS/blob/master/Letters.ipynb\" target=\"_parent\"><img src=\"https://colab.research.google.com/assets/colab-badge.svg\" alt=\"Open In Colab\"/></a>"
      ]
    },
    {
      "cell_type": "code",
      "metadata": {
        "id": "5SaE2zTUUqS4"
      },
      "source": [
        "import numpy as np\n",
        "from sklearn.utils import shuffle\n",
        "from sklearn.metrics import accuracy_score\n",
        "import matplotlib.pyplot as plt\n",
        "\n",
        "import tensorflow as tf\n",
        "from tensorflow import keras\n",
        "from tensorflow.keras import Sequential\n",
        "from tensorflow.keras import Sequential, Model"
      ],
      "execution_count": 196,
      "outputs": []
    },
    {
      "cell_type": "markdown",
      "metadata": {
        "id": "6s3AdZslYqS-"
      },
      "source": [
        "## Import the Dataset\n",
        "\n",
        "Import the dataset and look at some examples.\n",
        "\n",
        "The MNIST dataset consists of handwritten digits (0-9).\n",
        "Pixel values are from 0 to 255."
      ]
    },
    {
      "cell_type": "code",
      "metadata": {
        "colab": {
          "base_uri": "https://localhost:8080/"
        },
        "id": "qbK3BNTsVSy3",
        "outputId": "2bd38524-816d-4aba-f0e6-7fdd942552df"
      },
      "source": [
        "# load in the dataset\n",
        "#(x_train, y_train), (x_test, y_test) = keras.datasets.mnist.load_data()\n",
        "\n",
        "!pip install emnist\n",
        "from emnist import extract_training_samples,extract_test_samples\n",
        "x_train,y_train=extract_training_samples('letters')\n",
        "x_test,y_test=extract_test_samples('letters')\n",
        "set(y_train)\n",
        "# note that these are just numpy arrays\n",
        "type(x_train)"
      ],
      "execution_count": 253,
      "outputs": [
        {
          "output_type": "stream",
          "text": [
            "Requirement already satisfied: emnist in /usr/local/lib/python3.7/dist-packages (0.0)\n",
            "Requirement already satisfied: numpy in /usr/local/lib/python3.7/dist-packages (from emnist) (1.19.5)\n",
            "Requirement already satisfied: tqdm in /usr/local/lib/python3.7/dist-packages (from emnist) (4.41.1)\n",
            "Requirement already satisfied: requests in /usr/local/lib/python3.7/dist-packages (from emnist) (2.23.0)\n",
            "Requirement already satisfied: urllib3!=1.25.0,!=1.25.1,<1.26,>=1.21.1 in /usr/local/lib/python3.7/dist-packages (from requests->emnist) (1.24.3)\n",
            "Requirement already satisfied: chardet<4,>=3.0.2 in /usr/local/lib/python3.7/dist-packages (from requests->emnist) (3.0.4)\n",
            "Requirement already satisfied: idna<3,>=2.5 in /usr/local/lib/python3.7/dist-packages (from requests->emnist) (2.10)\n",
            "Requirement already satisfied: certifi>=2017.4.17 in /usr/local/lib/python3.7/dist-packages (from requests->emnist) (2021.5.30)\n"
          ],
          "name": "stdout"
        },
        {
          "output_type": "execute_result",
          "data": {
            "text/plain": [
              "numpy.ndarray"
            ]
          },
          "metadata": {
            "tags": []
          },
          "execution_count": 253
        }
      ]
    },
    {
      "cell_type": "code",
      "metadata": {
        "colab": {
          "base_uri": "https://localhost:8080/"
        },
        "id": "Gd0TCIllZJDw",
        "outputId": "a12e2f6b-4a50-4ae6-f010-e68372539d2a"
      },
      "source": [
        "# note that these are just numpy arrays\n",
        "type(x_train)"
      ],
      "execution_count": 254,
      "outputs": [
        {
          "output_type": "execute_result",
          "data": {
            "text/plain": [
              "numpy.ndarray"
            ]
          },
          "metadata": {
            "tags": []
          },
          "execution_count": 254
        }
      ]
    },
    {
      "cell_type": "code",
      "metadata": {
        "colab": {
          "base_uri": "https://localhost:8080/"
        },
        "id": "lFkzELJ2ZQOc",
        "outputId": "63a17cb4-acba-4a9d-bbd7-dc2430169b4f"
      },
      "source": [
        "# the x training data is 60,000 examples of 28x28 images\n",
        "print(x_train.shape)"
      ],
      "execution_count": 255,
      "outputs": [
        {
          "output_type": "stream",
          "text": [
            "(124800, 28, 28)\n"
          ],
          "name": "stdout"
        }
      ]
    },
    {
      "cell_type": "code",
      "metadata": {
        "colab": {
          "base_uri": "https://localhost:8080/"
        },
        "id": "QR1nQl_9ZS5D",
        "outputId": "c205a5cd-7c69-4436-a89f-171db2568c24"
      },
      "source": [
        "print(y_train.shape)"
      ],
      "execution_count": 258,
      "outputs": [
        {
          "output_type": "stream",
          "text": [
            "(24000,)\n"
          ],
          "name": "stdout"
        }
      ]
    },
    {
      "cell_type": "code",
      "metadata": {
        "id": "t8ddpVZyzUIF"
      },
      "source": [
        "# train and test sets for letter A-E\n",
        "x_train = x_train[y_train < 6] / 255.\n",
        "y_train = y_train[y_train < 6]\n",
        "x_test = x_test[y_test < 6] / 255.\n",
        "y_test = y_test[y_test < 6]"
      ],
      "execution_count": 259,
      "outputs": []
    },
    {
      "cell_type": "code",
      "metadata": {
        "colab": {
          "base_uri": "https://localhost:8080/",
          "height": 627
        },
        "id": "n3k0TcjqYVy9",
        "outputId": "1217fd46-9d88-4e8b-8896-8b414c270bef"
      },
      "source": [
        "# Look at some random numbers\n",
        "X_shuffle = shuffle(x_train.copy(), random_state=42)\n",
        "\n",
        "print('Look at some numbers\\n')\n",
        "plt.figure(figsize = (12,10))\n",
        "row, colums = 4, 4\n",
        "for i in range(16):\n",
        "    plt.subplot(colums, row, i+1)\n",
        "    plt.imshow(X_shuffle[i].reshape(28,28),interpolation='nearest', cmap='Greys')\n",
        "plt.show()"
      ],
      "execution_count": 260,
      "outputs": [
        {
          "output_type": "stream",
          "text": [
            "Look at some numbers\n",
            "\n"
          ],
          "name": "stdout"
        },
        {
          "output_type": "display_data",
          "data": {
            "image/png": "[encoded data removed]",
            "text/plain": [
              "<Figure size 864x720 with 16 Axes>"
            ]
          },
          "metadata": {
            "tags": [],
            "needs_background": "light"
          }
        }
      ]
    },
    {
      "cell_type": "markdown",
      "metadata": {
        "id": "xxz1o2JxY1Y_"
      },
      "source": [
        "## Data Preprocessing\n",
        "\n",
        "We need to do the following to preprocess the data:\n",
        "\n",
        "1. Divide the values by the max value (255)\n",
        "2. Add a color channel (require by the convolutional layer)\n",
        "\n",
        "By default Keras assumes images are formatted as (number of examples, x-dim, y-dim, number of colors)\n",
        "\n",
        "An RGB image has 3 color channels, greyscale as 1 color channel"
      ]
    },
    {
      "cell_type": "code",
      "metadata": {
        "colab": {
          "base_uri": "https://localhost:8080/"
        },
        "id": "Yz0psGH0IOf4",
        "outputId": "841076b9-1ce1-4b02-f2b7-d98476ffee1f"
      },
      "source": [
        "x_train.max()"
      ],
      "execution_count": 261,
      "outputs": [
        {
          "output_type": "execute_result",
          "data": {
            "text/plain": [
              "0.00392156862745098"
            ]
          },
          "metadata": {
            "tags": []
          },
          "execution_count": 261
        }
      ]
    },
    {
      "cell_type": "code",
      "metadata": {
        "colab": {
          "base_uri": "https://localhost:8080/"
        },
        "id": "lpB2T9cGGBNX",
        "outputId": "952e10f0-9081-42ba-a80c-3aa42f6ade19"
      },
      "source": [
        "x_train.shape"
      ],
      "execution_count": 262,
      "outputs": [
        {
          "output_type": "execute_result",
          "data": {
            "text/plain": [
              "(24000, 28, 28)"
            ]
          },
          "metadata": {
            "tags": []
          },
          "execution_count": 262
        }
      ]
    },
    {
      "cell_type": "code",
      "metadata": {
        "id": "uW3fu8FZYgWR"
      },
      "source": [
        "# divide by the color channel\n",
        "#x_train = x_train / 255.\n",
        "#x_test = x_test / 255."
      ],
      "execution_count": 263,
      "outputs": []
    },
    {
      "cell_type": "code",
      "metadata": {
        "id": "3qtGDOm-abZC"
      },
      "source": [
        "# add the color channel\n",
        "x_train = x_train.reshape(x_train.shape + (1,))\n",
        "x_test = x_test.reshape(x_test.shape + (1,))"
      ],
      "execution_count": 264,
      "outputs": []
    },
    {
      "cell_type": "code",
      "metadata": {
        "colab": {
          "base_uri": "https://localhost:8080/"
        },
        "id": "YQvzY7PZIUfM",
        "outputId": "7990f1db-a042-4c5e-8b52-8e59972d859e"
      },
      "source": [
        "x_train.shape"
      ],
      "execution_count": 265,
      "outputs": [
        {
          "output_type": "execute_result",
          "data": {
            "text/plain": [
              "(24000, 28, 28, 1)"
            ]
          },
          "metadata": {
            "tags": []
          },
          "execution_count": 265
        }
      ]
    },
    {
      "cell_type": "markdown",
      "metadata": {
        "id": "Dt8luNRWcXhb"
      },
      "source": [
        "## Setup the Model\n",
        "\n",
        "This is a very basic convolutional network.\n",
        "There are essentially two sections\n",
        "1. convolutional feature extraction layers\n",
        "2. dense (fully-connected) classifier layers"
      ]
    },
    {
      "cell_type": "code",
      "metadata": {
        "id": "Ygg2sWOBbE6f"
      },
      "source": [
        "num_classes=27\n",
        "filters=32\n",
        "kernel_size=3\n",
        "pool_size=2\n",
        "dropout=0.2\n",
        "input_shape = (28,28,1)\n",
        "\n",
        "model = Sequential([\n",
        "      # convolutional feature extraction\n",
        "      # ConvNet 1\n",
        "\n",
        "        # convoultional part\n",
        "      keras.layers.Conv2D(filters, kernel_size, padding = 'valid',\n",
        "              activation='relu',\n",
        "              input_shape=input_shape),\n",
        "        # pooling part\n",
        "      keras.layers.MaxPooling2D(pool_size=pool_size),\n",
        "\n",
        "      # ConvNet 2\n",
        "      \n",
        "        # convoultional part\n",
        "      keras.layers.Conv2D(filters, kernel_size,\n",
        "              padding = 'valid',\n",
        "              activation='relu'),\n",
        "        # pooling part\n",
        "      keras.layers.MaxPooling2D(pool_size=pool_size),\n",
        "\n",
        "      # classification \n",
        "      # will retrain from here\n",
        "      keras.layers.Flatten(name='flatten'),\n",
        "\n",
        "      keras.layers.Dropout(dropout),\n",
        "      keras.layers.Dense(128, activation='relu'),\n",
        "      \n",
        "      keras.layers.Dropout(dropout, name='penult'),\n",
        "      keras.layers.Dense(num_classes, activation='softmax', name='last')\n",
        "  ])"
      ],
      "execution_count": 266,
      "outputs": []
    },
    {
      "cell_type": "code",
      "metadata": {
        "colab": {
          "base_uri": "https://localhost:8080/"
        },
        "id": "CQZPYgJgcFOt",
        "outputId": "1eb58a80-3f13-4f7f-b341-6f323e15da25"
      },
      "source": [
        "# print summary of model as check\n",
        "model.summary()"
      ],
      "execution_count": 267,
      "outputs": [
        {
          "output_type": "stream",
          "text": [
            "Model: \"sequential_3\"\n",
            "_________________________________________________________________\n",
            "Layer (type)                 Output Shape              Param #   \n",
            "=================================================================\n",
            "conv2d_6 (Conv2D)            (None, 26, 26, 32)        320       \n",
            "_________________________________________________________________\n",
            "max_pooling2d_6 (MaxPooling2 (None, 13, 13, 32)        0         \n",
            "_________________________________________________________________\n",
            "conv2d_7 (Conv2D)            (None, 11, 11, 32)        9248      \n",
            "_________________________________________________________________\n",
            "max_pooling2d_7 (MaxPooling2 (None, 5, 5, 32)          0         \n",
            "_________________________________________________________________\n",
            "flatten (Flatten)            (None, 800)               0         \n",
            "_________________________________________________________________\n",
            "dropout_3 (Dropout)          (None, 800)               0         \n",
            "_________________________________________________________________\n",
            "dense_9 (Dense)              (None, 128)               102528    \n",
            "_________________________________________________________________\n",
            "penult (Dropout)             (None, 128)               0         \n",
            "_________________________________________________________________\n",
            "last (Dense)                 (None, 27)                3483      \n",
            "=================================================================\n",
            "Total params: 115,579\n",
            "Trainable params: 115,579\n",
            "Non-trainable params: 0\n",
            "_________________________________________________________________\n"
          ],
          "name": "stdout"
        }
      ]
    },
    {
      "cell_type": "code",
      "metadata": {
        "colab": {
          "base_uri": "https://localhost:8080/",
          "height": 552
        },
        "id": "996Wn3Vlb8QJ",
        "outputId": "466c91f4-85d7-4398-ebd0-a02557934ac4"
      },
      "source": [
        "# print image of model as check\n",
        "keras.utils.plot_model(model, show_shapes=True, dpi=48)"
      ],
      "execution_count": 268,
      "outputs": [
        {
          "output_type": "execute_result",
          "data": {
            "image/png": "[encoded data removed]",
            "text/plain": [
              "<IPython.core.display.Image object>"
            ]
          },
          "metadata": {
            "tags": []
          },
          "execution_count": 268
        }
      ]
    },
    {
      "cell_type": "code",
      "metadata": {
        "id": "8efbeVFKdiYK"
      },
      "source": [
        "es = keras.callbacks.EarlyStopping(min_delta=0.001, patience=2)"
      ],
      "execution_count": 269,
      "outputs": []
    },
    {
      "cell_type": "code",
      "metadata": {
        "colab": {
          "base_uri": "https://localhost:8080/"
        },
        "id": "liTa1sVnoGy3",
        "outputId": "c9369973-61df-4264-ff54-555abbedf92c"
      },
      "source": [
        "y_train"
      ],
      "execution_count": 270,
      "outputs": [
        {
          "output_type": "execute_result",
          "data": {
            "text/plain": [
              "array([5, 2, 5, ..., 1, 2, 2], dtype=uint8)"
            ]
          },
          "metadata": {
            "tags": []
          },
          "execution_count": 270
        }
      ]
    },
    {
      "cell_type": "markdown",
      "metadata": {
        "id": "e7JCY5X509dj"
      },
      "source": [
        ""
      ]
    },
    {
      "cell_type": "markdown",
      "metadata": {
        "id": "9pqsqdTUJBS3"
      },
      "source": [
        "## Loss Functions\n",
        "\n",
        "When y labels are sequential use `sparse_categorical_crossentropy`.  \n",
        "When y labels are onehot encoded, use `categorical_crossentropy`."
      ]
    },
    {
      "cell_type": "code",
      "metadata": {
        "colab": {
          "base_uri": "https://localhost:8080/"
        },
        "id": "X2GOOkcLbX--",
        "outputId": "fd672590-e18b-49f3-9e7d-cc790d93f10e"
      },
      "source": [
        "model.compile(loss='sparse_categorical_crossentropy',\n",
        "                      optimizer='adam',\n",
        "                      metrics=['accuracy'])\n",
        "\n",
        "history = model.fit(x_train, y_train,\n",
        "                    validation_split=0.2,\n",
        "                    batch_size=32,\n",
        "                    epochs=1000,\n",
        "                    callbacks=[es])"
      ],
      "execution_count": 271,
      "outputs": [
        {
          "output_type": "stream",
          "text": [
            "Epoch 1/1000\n",
            "600/600 [==============================] - 16s 26ms/step - loss: 1.6495 - accuracy: 0.2446 - val_loss: 1.0488 - val_accuracy: 0.6656\n",
            "Epoch 2/1000\n",
            "600/600 [==============================] - 16s 26ms/step - loss: 0.6325 - accuracy: 0.7677 - val_loss: 0.4486 - val_accuracy: 0.8431\n",
            "Epoch 3/1000\n",
            "600/600 [==============================] - 15s 26ms/step - loss: 0.4352 - accuracy: 0.8489 - val_loss: 0.3290 - val_accuracy: 0.8842\n",
            "Epoch 4/1000\n",
            "600/600 [==============================] - 15s 26ms/step - loss: 0.3365 - accuracy: 0.8839 - val_loss: 0.2428 - val_accuracy: 0.9215\n",
            "Epoch 5/1000\n",
            "600/600 [==============================] - 15s 26ms/step - loss: 0.2741 - accuracy: 0.9085 - val_loss: 0.1977 - val_accuracy: 0.9325\n",
            "Epoch 6/1000\n",
            "600/600 [==============================] - 15s 26ms/step - loss: 0.2369 - accuracy: 0.9206 - val_loss: 0.1662 - val_accuracy: 0.9469\n",
            "Epoch 7/1000\n",
            "600/600 [==============================] - 15s 26ms/step - loss: 0.2023 - accuracy: 0.9310 - val_loss: 0.1468 - val_accuracy: 0.9517\n",
            "Epoch 8/1000\n",
            "600/600 [==============================] - 15s 26ms/step - loss: 0.1850 - accuracy: 0.9378 - val_loss: 0.1324 - val_accuracy: 0.9579\n",
            "Epoch 9/1000\n",
            "600/600 [==============================] - 15s 25ms/step - loss: 0.1623 - accuracy: 0.9468 - val_loss: 0.1175 - val_accuracy: 0.9627\n",
            "Epoch 10/1000\n",
            "600/600 [==============================] - 15s 26ms/step - loss: 0.1474 - accuracy: 0.9528 - val_loss: 0.1101 - val_accuracy: 0.9631\n",
            "Epoch 11/1000\n",
            "600/600 [==============================] - 15s 26ms/step - loss: 0.1364 - accuracy: 0.9536 - val_loss: 0.1099 - val_accuracy: 0.9633\n",
            "Epoch 12/1000\n",
            "600/600 [==============================] - 15s 26ms/step - loss: 0.1257 - accuracy: 0.9589 - val_loss: 0.1042 - val_accuracy: 0.9656\n",
            "Epoch 13/1000\n",
            "600/600 [==============================] - 15s 26ms/step - loss: 0.1181 - accuracy: 0.9593 - val_loss: 0.0961 - val_accuracy: 0.9694\n",
            "Epoch 14/1000\n",
            "600/600 [==============================] - 16s 26ms/step - loss: 0.1132 - accuracy: 0.9630 - val_loss: 0.0877 - val_accuracy: 0.9719\n",
            "Epoch 15/1000\n",
            "600/600 [==============================] - 15s 26ms/step - loss: 0.1060 - accuracy: 0.9631 - val_loss: 0.0877 - val_accuracy: 0.9733\n",
            "Epoch 16/1000\n",
            "600/600 [==============================] - 16s 26ms/step - loss: 0.1004 - accuracy: 0.9675 - val_loss: 0.0863 - val_accuracy: 0.9735\n",
            "Epoch 17/1000\n",
            "600/600 [==============================] - 16s 26ms/step - loss: 0.0959 - accuracy: 0.9685 - val_loss: 0.0813 - val_accuracy: 0.9750\n",
            "Epoch 18/1000\n",
            "600/600 [==============================] - 15s 26ms/step - loss: 0.0950 - accuracy: 0.9670 - val_loss: 0.0767 - val_accuracy: 0.9769\n",
            "Epoch 19/1000\n",
            "600/600 [==============================] - 15s 26ms/step - loss: 0.0902 - accuracy: 0.9702 - val_loss: 0.0768 - val_accuracy: 0.9762\n",
            "Epoch 20/1000\n",
            "600/600 [==============================] - 15s 26ms/step - loss: 0.0840 - accuracy: 0.9727 - val_loss: 0.0790 - val_accuracy: 0.9750\n"
          ],
          "name": "stdout"
        }
      ]
    },
    {
      "cell_type": "code",
      "metadata": {
        "id": "OEZyjmR7b0aS"
      },
      "source": [
        "def plot_training_curves(history, title=None):\n",
        "    ''' Plot the training curves for loss and accuracy given a model history\n",
        "    '''\n",
        "    # find the minimum loss epoch\n",
        "    minimum = np.min(history.history['val_loss'])\n",
        "    min_loc = np.where(minimum == history.history['val_loss'])[0]\n",
        "    # get the vline y-min and y-max\n",
        "    loss_min, loss_max = (min(history.history['val_loss'] + history.history['loss']),\n",
        "                          max(history.history['val_loss'] + history.history['loss']))\n",
        "    acc_min, acc_max = (min(history.history['val_accuracy'] + history.history['accuracy']),\n",
        "                        max(history.history['val_accuracy'] + history.history['accuracy']))\n",
        "    # create figure\n",
        "    fig, ax = plt.subplots(ncols=2, figsize = (15,7))\n",
        "    fig.suptitle(title)\n",
        "    index = np.arange(1, len(history.history['accuracy']) + 1)\n",
        "    # plot the loss and validation loss\n",
        "    ax[0].plot(index, history.history['loss'], label = 'loss')\n",
        "    ax[0].plot(index, history.history['val_loss'], label = 'val_loss')\n",
        "    ax[0].vlines(min_loc + 1, loss_min, loss_max, label = 'min_loss_location')\n",
        "    ax[0].set_title('Loss')\n",
        "    ax[0].set_ylabel('Loss')\n",
        "    ax[0].set_xlabel('Epochs')\n",
        "    ax[0].legend()\n",
        "    # plot the accuracy and validation accuracy\n",
        "    ax[1].plot(index, history.history['accuracy'], label = 'accuracy')\n",
        "    ax[1].plot(index, history.history['val_accuracy'], label = 'val_accuracy')\n",
        "    ax[1].vlines(min_loc + 1, acc_min, acc_max, label = 'min_loss_location')\n",
        "    ax[1].set_title('Accuracy')\n",
        "    ax[1].set_ylabel('Accuracy')\n",
        "    ax[1].set_xlabel('Epochs')\n",
        "    ax[1].legend()\n",
        "    plt.show()"
      ],
      "execution_count": 272,
      "outputs": []
    },
    {
      "cell_type": "code",
      "metadata": {
        "colab": {
          "base_uri": "https://localhost:8080/",
          "height": 447
        },
        "id": "Qfk0LEIKfICa",
        "outputId": "da1b8961-d3aa-4eab-d713-734e357f0faa"
      },
      "source": [
        "plot_training_curves(history)"
      ],
      "execution_count": 273,
      "outputs": [
        {
          "output_type": "display_data",
          "data": {
            "image/png": "[encoded data removed]",
            "text/plain": [
              "<Figure size 1080x504 with 2 Axes>"
            ]
          },
          "metadata": {
            "tags": [],
            "needs_background": "light"
          }
        }
      ]
    },
    {
      "cell_type": "code",
      "metadata": {
        "id": "5HjmvtMhpdO3"
      },
      "source": [
        "# predict using the model\n",
        "preds = model.predict(x_test)"
      ],
      "execution_count": 274,
      "outputs": []
    },
    {
      "cell_type": "code",
      "metadata": {
        "colab": {
          "base_uri": "https://localhost:8080/"
        },
        "id": "sIxQV5RMrOwM",
        "outputId": "e4886745-eb26-462d-b856-3f030fc78f3d"
      },
      "source": [
        "x_test.shape"
      ],
      "execution_count": 275,
      "outputs": [
        {
          "output_type": "execute_result",
          "data": {
            "text/plain": [
              "(4000, 28, 28, 1)"
            ]
          },
          "metadata": {
            "tags": []
          },
          "execution_count": 275
        }
      ]
    },
    {
      "cell_type": "code",
      "metadata": {
        "colab": {
          "base_uri": "https://localhost:8080/"
        },
        "id": "H5c-U5UxrHOa",
        "outputId": "a54ff67a-3426-4eb1-a2e4-d76d4fdb3f21"
      },
      "source": [
        "preds.shape"
      ],
      "execution_count": 276,
      "outputs": [
        {
          "output_type": "execute_result",
          "data": {
            "text/plain": [
              "(4000, 27)"
            ]
          },
          "metadata": {
            "tags": []
          },
          "execution_count": 276
        }
      ]
    },
    {
      "cell_type": "code",
      "metadata": {
        "colab": {
          "base_uri": "https://localhost:8080/"
        },
        "id": "vHsZTQ7wpeYm",
        "outputId": "cfff6a19-8978-48bd-a9ce-2fab08108fe8"
      },
      "source": [
        "preds[0]"
      ],
      "execution_count": 277,
      "outputs": [
        {
          "output_type": "execute_result",
          "data": {
            "text/plain": [
              "array([3.9160383e-15, 9.9997962e-01, 8.9027759e-07, 1.2289968e-06,\n",
              "       7.0485009e-07, 1.7625001e-05, 7.8145472e-15, 2.7835168e-14,\n",
              "       1.1346182e-14, 3.6717692e-14, 2.1999782e-14, 9.4207553e-14,\n",
              "       5.7823433e-15, 2.0026305e-13, 1.8904325e-14, 2.2179436e-14,\n",
              "       5.8253417e-14, 1.3303898e-14, 1.6582252e-14, 1.4303359e-14,\n",
              "       3.7102781e-14, 5.8777080e-14, 5.2258049e-15, 1.3005980e-14,\n",
              "       4.7655611e-15, 1.8663863e-13, 5.4648059e-15], dtype=float32)"
            ]
          },
          "metadata": {
            "tags": []
          },
          "execution_count": 277
        }
      ]
    },
    {
      "cell_type": "code",
      "metadata": {
        "colab": {
          "base_uri": "https://localhost:8080/"
        },
        "id": "Ao4KdS35fRDZ",
        "outputId": "cb372d3e-b46c-4ac6-be53-fc5b8622f907"
      },
      "source": [
        "# classify the test set\n",
        "\n",
        "# predict using the model\n",
        "preds = model.predict(x_test)\n",
        "# argmax along rows to get classification\n",
        "preds = np.argmax(preds, axis=1).astype(\"uint8\")\n",
        "\n",
        "accuracy_score(y_test, preds)"
      ],
      "execution_count": 278,
      "outputs": [
        {
          "output_type": "execute_result",
          "data": {
            "text/plain": [
              "0.9715"
            ]
          },
          "metadata": {
            "tags": []
          },
          "execution_count": 278
        }
      ]
    },
    {
      "cell_type": "code",
      "metadata": {
        "colab": {
          "base_uri": "https://localhost:8080/"
        },
        "id": "xT9khKABRlaq",
        "outputId": "1f303190-c9ce-4fe2-ea2d-ecb182ec1f13"
      },
      "source": [
        "preds.shape"
      ],
      "execution_count": 279,
      "outputs": [
        {
          "output_type": "execute_result",
          "data": {
            "text/plain": [
              "(4000,)"
            ]
          },
          "metadata": {
            "tags": []
          },
          "execution_count": 279
        }
      ]
    },
    {
      "cell_type": "markdown",
      "metadata": {
        "id": "RMdVlO6qbdW-"
      },
      "source": [
        "## Working with 'Real' Images"
      ]
    },
    {
      "cell_type": "code",
      "metadata": {
        "colab": {
          "base_uri": "https://localhost:8080/"
        },
        "id": "8WUXEJnrZPQd",
        "outputId": "b38a19d3-5745-4cff-cf76-8d9f2eeabf51"
      },
      "source": [
        "!pip install pillow\n",
        "import numpy as np\n",
        "from PIL import Image\n",
        "\n",
        "import matplotlib.pyplot as plt\n",
        "import glob"
      ],
      "execution_count": 280,
      "outputs": [
        {
          "output_type": "stream",
          "text": [
            "Requirement already satisfied: pillow in /usr/local/lib/python3.7/dist-packages (7.1.2)\n"
          ],
          "name": "stdout"
        }
      ]
    },
    {
      "cell_type": "markdown",
      "metadata": {
        "id": "LNMiGzpqfG2h"
      },
      "source": [
        "pillow (PIL) is the python package for working with real images:\n",
        "\n",
        "[https://pillow.readthedocs.io/en/stable/index.html](https://pillow.readthedocs.io/en/stable/index.html)"
      ]
    },
    {
      "cell_type": "markdown",
      "metadata": {
        "id": "1vl67ARjemIf"
      },
      "source": [
        "I have some images of cats in google drive that I'll be using for example.\n",
        "How to mount google drive in the colab env:\n",
        "[https://www.kaggle.com/questions-and-answers/162449](https://www.kaggle.com/questions-and-answers/162449)"
      ]
    },
    {
      "cell_type": "code",
      "metadata": {
        "colab": {
          "base_uri": "https://localhost:8080/"
        },
        "id": "NJjiP4zafyRV",
        "outputId": "aa0bf7a9-5ea2-438e-b5c3-bcf342c9de1c"
      },
      "source": [
        "from google.colab import drive\n",
        "drive.mount('/content/gdrive')"
      ],
      "execution_count": 47,
      "outputs": [
        {
          "output_type": "stream",
          "text": [
            "Drive already mounted at /content/gdrive; to attempt to forcibly remount, call drive.mount(\"/content/gdrive\", force_remount=True).\n"
          ],
          "name": "stdout"
        }
      ]
    },
    {
      "cell_type": "code",
      "metadata": {
        "id": "Z8-W_b46ZUYU"
      },
      "source": [
        "#images = glob.glob('/content/gdrive/MyDrive/letters/*')\n",
        "#images[:27]"
      ],
      "execution_count": 281,
      "outputs": []
    },
    {
      "cell_type": "code",
      "metadata": {
        "colab": {
          "base_uri": "https://localhost:8080/"
        },
        "id": "TnBOP1lCIBQC",
        "outputId": "e1f1e940-f1a1-4237-c69b-156ccc7727c7"
      },
      "source": [
        "images = glob.glob('/content/gdrive/MyDrive/letter2/*')\n",
        "images[:27]"
      ],
      "execution_count": 282,
      "outputs": [
        {
          "output_type": "execute_result",
          "data": {
            "text/plain": [
              "['/content/gdrive/MyDrive/letter2/Letter_D',\n",
              " '/content/gdrive/MyDrive/letter2/Letter_C',\n",
              " '/content/gdrive/MyDrive/letter2/Letter_B',\n",
              " '/content/gdrive/MyDrive/letter2/Letter_E',\n",
              " '/content/gdrive/MyDrive/letter2/Letter_A']"
            ]
          },
          "metadata": {
            "tags": []
          },
          "execution_count": 282
        }
      ]
    },
    {
      "cell_type": "code",
      "metadata": {
        "id": "K27M0JcGIWUC"
      },
      "source": [
        "image1 = glob.glob('/content/gdrive/MyDrive/letter2/Letter_A/*')\n",
        "image2 = glob.glob('/content/gdrive/MyDrive/letter2/Letter_B/*')\n",
        "image3 = glob.glob('/content/gdrive/MyDrive/letter2/Letter_C/*')\n",
        "image4 = glob.glob('/content/gdrive/MyDrive/letter2/Letter_D/*')\n",
        "image5 = glob.glob('/content/gdrive/MyDrive/letter2/Letter_E/*')\n",
        "\n",
        "images = (image1 + image2 + image3 + image4 + image5)\n"
      ],
      "execution_count": 283,
      "outputs": []
    },
    {
      "cell_type": "markdown",
      "metadata": {
        "id": "xes4jRAiet68"
      },
      "source": [
        "Open the image and resize it.\n",
        "Note that the hand written images should be resized to (28,28).\n",
        "\n",
        "[https://pillow.readthedocs.io/en/stable/reference/Image.html#PIL.Image.Image.resize](https://pillow.readthedocs.io/en/stable/reference/Image.html#PIL.Image.Image.resize)"
      ]
    },
    {
      "cell_type": "code",
      "metadata": {
        "colab": {
          "base_uri": "https://localhost:8080/"
        },
        "id": "7igKlaaRI9wb",
        "outputId": "aa18180d-7125-4c16-b624-6ccc20b0ca08"
      },
      "source": [
        "images"
      ],
      "execution_count": 284,
      "outputs": [
        {
          "output_type": "execute_result",
          "data": {
            "text/plain": [
              "['/content/gdrive/MyDrive/letter2/Letter_A/canvas (18).png',\n",
              " '/content/gdrive/MyDrive/letter2/Letter_A/canvas (23).png',\n",
              " '/content/gdrive/MyDrive/letter2/Letter_A/canvas (8).png',\n",
              " '/content/gdrive/MyDrive/letter2/Letter_A/canvas (13).png',\n",
              " '/content/gdrive/MyDrive/letter2/Letter_A/canvas (23) copy.png',\n",
              " '/content/gdrive/MyDrive/letter2/Letter_B/canvas (22).png',\n",
              " '/content/gdrive/MyDrive/letter2/Letter_B/canvas (12).png',\n",
              " '/content/gdrive/MyDrive/letter2/Letter_B/canvas (1).png',\n",
              " '/content/gdrive/MyDrive/letter2/Letter_B/canvas (7).png',\n",
              " '/content/gdrive/MyDrive/letter2/Letter_B/canvas (17).png',\n",
              " '/content/gdrive/MyDrive/letter2/Letter_C/canvas (26).png',\n",
              " '/content/gdrive/MyDrive/letter2/Letter_C/canvas (27).png',\n",
              " '/content/gdrive/MyDrive/letter2/Letter_C/canvas (11).png',\n",
              " '/content/gdrive/MyDrive/letter2/Letter_C/canvas (16).png',\n",
              " '/content/gdrive/MyDrive/letter2/Letter_C/canvas (21).png',\n",
              " '/content/gdrive/MyDrive/letter2/Letter_D/canvas (5).png',\n",
              " '/content/gdrive/MyDrive/letter2/Letter_D/canvas (15).png',\n",
              " '/content/gdrive/MyDrive/letter2/Letter_D/canvas (25).png',\n",
              " '/content/gdrive/MyDrive/letter2/Letter_D/canvas (10).png',\n",
              " '/content/gdrive/MyDrive/letter2/Letter_D/canvas (20).png',\n",
              " '/content/gdrive/MyDrive/letter2/Letter_E/canvas (9).png',\n",
              " '/content/gdrive/MyDrive/letter2/Letter_E/canvas (19).png',\n",
              " '/content/gdrive/MyDrive/letter2/Letter_E/canvas (14).png',\n",
              " '/content/gdrive/MyDrive/letter2/Letter_E/canvas (3).png',\n",
              " '/content/gdrive/MyDrive/letter2/Letter_E/canvas (24).png']"
            ]
          },
          "metadata": {
            "tags": []
          },
          "execution_count": 284
        }
      ]
    },
    {
      "cell_type": "code",
      "metadata": {
        "colab": {
          "base_uri": "https://localhost:8080/",
          "height": 246
        },
        "id": "HSBSKb38cOKS",
        "outputId": "c30ff0a1-2de1-4496-ba7e-2c851a1364c2"
      },
      "source": [
        "im = Image.open(images[5])\n",
        "plt.imshow(im)"
      ],
      "execution_count": 285,
      "outputs": [
        {
          "output_type": "execute_result",
          "data": {
            "text/plain": [
              "<matplotlib.image.AxesImage at 0x7f9d382239d0>"
            ]
          },
          "metadata": {
            "tags": []
          },
          "execution_count": 285
        },
        {
          "output_type": "display_data",
          "data": {
            "image/png": "[encoded data removed]",
            "text/plain": [
              "<Figure size 432x288 with 1 Axes>"
            ]
          },
          "metadata": {
            "tags": [],
            "needs_background": "light"
          }
        }
      ]
    },
    {
      "cell_type": "code",
      "metadata": {
        "colab": {
          "base_uri": "https://localhost:8080/",
          "height": 282
        },
        "id": "m32s1fsjcraI",
        "outputId": "5fff6745-71bb-4a0a-953e-b21d4901f7c1"
      },
      "source": [
        "size = (28,28)\n",
        "im = im.resize(size)\n",
        "plt.imshow(im)"
      ],
      "execution_count": 286,
      "outputs": [
        {
          "output_type": "execute_result",
          "data": {
            "text/plain": [
              "<matplotlib.image.AxesImage at 0x7f9d373c6690>"
            ]
          },
          "metadata": {
            "tags": []
          },
          "execution_count": 286
        },
        {
          "output_type": "display_data",
          "data": {
            "image/png": "[encoded data removed]",
            "text/plain": [
              "<Figure size 432x288 with 1 Axes>"
            ]
          },
          "metadata": {
            "tags": [],
            "needs_background": "light"
          }
        }
      ]
    },
    {
      "cell_type": "markdown",
      "metadata": {
        "id": "H4AEuTs6e4GW"
      },
      "source": [
        "Convert the image to greyscale with \"L\" option.\n",
        "\n",
        "[https://pillow.readthedocs.io/en/stable/reference/Image.html#PIL.Image.Image.convert](https://pillow.readthedocs.io/en/stable/reference/Image.html#PIL.Image.Image.convert)"
      ]
    },
    {
      "cell_type": "code",
      "metadata": {
        "colab": {
          "base_uri": "https://localhost:8080/",
          "height": 282
        },
        "id": "SncwIzgrbjb7",
        "outputId": "ac95fb34-905d-4df8-f3fc-2ac4be0ae669"
      },
      "source": [
        "im = im.convert(\"L\")\n",
        "plt.imshow(im)"
      ],
      "execution_count": 287,
      "outputs": [
        {
          "output_type": "execute_result",
          "data": {
            "text/plain": [
              "<matplotlib.image.AxesImage at 0x7f9d372b62d0>"
            ]
          },
          "metadata": {
            "tags": []
          },
          "execution_count": 287
        },
        {
          "output_type": "display_data",
          "data": {
            "image/png": "[encoded data removed]",
            "text/plain": [
              "<Figure size 432x288 with 1 Axes>"
            ]
          },
          "metadata": {
            "tags": [],
            "needs_background": "light"
          }
        }
      ]
    },
    {
      "cell_type": "markdown",
      "metadata": {
        "id": "r_BgRugCf_1p"
      },
      "source": [
        "Build an array for training in the neural network"
      ]
    },
    {
      "cell_type": "code",
      "metadata": {
        "colab": {
          "base_uri": "https://localhost:8080/"
        },
        "id": "6cy18I-vdUWv",
        "outputId": "50f044de-79b0-40a0-a162-49bcf0b1c234"
      },
      "source": [
        "im = np.array(im)\n",
        "im"
      ],
      "execution_count": 288,
      "outputs": [
        {
          "output_type": "execute_result",
          "data": {
            "text/plain": [
              "array([[250, 250, 250, 250, 250, 250, 250, 250, 250, 250, 250, 250, 250,\n",
              "        250, 250, 250, 250, 250, 250, 250, 250, 250, 250, 250, 250, 250,\n",
              "        250, 250],\n",
              "       [250, 250, 250, 250, 250, 250, 250, 250, 250, 250, 250, 250, 250,\n",
              "        250, 250, 250, 250, 250, 250, 250, 250, 250, 250, 250, 250, 250,\n",
              "        250, 250],\n",
              "       [250, 250, 250, 250, 250, 250, 250, 250, 250, 250, 250, 250, 250,\n",
              "        250, 250, 250, 250, 250, 250, 250, 250, 250, 250, 250, 250, 250,\n",
              "        250, 250],\n",
              "       [250, 250, 250, 250, 250, 250, 250, 250, 250, 250, 250, 250, 250,\n",
              "        251, 251, 250, 250, 250, 250, 250, 250, 250, 250, 250, 250, 250,\n",
              "        250, 250],\n",
              "       [250, 250, 250, 250, 250, 250, 250, 250, 250, 250, 250, 250, 251,\n",
              "        243, 241, 249, 250, 250, 250, 250, 250, 250, 250, 250, 250, 250,\n",
              "        250, 250],\n",
              "       [250, 250, 250, 250, 250, 250, 250, 250, 250, 250, 250, 248, 230,\n",
              "        242, 243, 243, 251, 250, 250, 250, 250, 250, 250, 250, 250, 250,\n",
              "        250, 250],\n",
              "       [250, 250, 250, 250, 250, 250, 250, 250, 250, 250, 251, 242, 242,\n",
              "        251, 251, 243, 250, 250, 250, 250, 250, 250, 250, 250, 250, 250,\n",
              "        250, 250],\n",
              "       [250, 250, 250, 250, 250, 250, 250, 250, 250, 250, 248, 242, 251,\n",
              "        250, 250, 243, 250, 250, 250, 250, 250, 250, 250, 250, 250, 250,\n",
              "        250, 250],\n",
              "       [250, 250, 250, 250, 250, 250, 250, 250, 250, 251, 242, 247, 250,\n",
              "        250, 250, 243, 250, 250, 250, 250, 250, 250, 250, 250, 250, 250,\n",
              "        250, 250],\n",
              "       [250, 250, 250, 250, 250, 250, 250, 250, 250, 249, 241, 251, 250,\n",
              "        250, 247, 244, 251, 250, 250, 250, 250, 250, 250, 250, 250, 250,\n",
              "        250, 250],\n",
              "       [250, 250, 250, 250, 250, 250, 250, 250, 251, 243, 246, 250, 250,\n",
              "        251, 242, 248, 250, 250, 250, 250, 250, 250, 250, 250, 250, 250,\n",
              "        250, 250],\n",
              "       [250, 250, 250, 250, 250, 250, 250, 250, 249, 241, 251, 250, 251,\n",
              "        247, 242, 251, 250, 250, 250, 250, 250, 250, 250, 250, 250, 250,\n",
              "        250, 250],\n",
              "       [250, 250, 250, 250, 250, 250, 250, 251, 245, 244, 241, 237, 237,\n",
              "        236, 249, 250, 250, 250, 250, 250, 250, 250, 250, 250, 250, 250,\n",
              "        250, 250],\n",
              "       [250, 250, 250, 250, 250, 250, 250, 251, 239, 235, 245, 246, 235,\n",
              "        237, 250, 250, 250, 250, 250, 250, 250, 250, 250, 250, 250, 250,\n",
              "        250, 250],\n",
              "       [250, 250, 250, 250, 250, 250, 250, 247, 242, 239, 237, 238, 249,\n",
              "        245, 248, 250, 250, 250, 250, 250, 250, 250, 250, 250, 250, 250,\n",
              "        250, 250],\n",
              "       [250, 250, 250, 250, 250, 250, 251, 242, 248, 251, 250, 251, 251,\n",
              "        245, 247, 250, 250, 250, 250, 250, 250, 250, 250, 250, 250, 250,\n",
              "        250, 250],\n",
              "       [250, 250, 250, 250, 250, 250, 249, 242, 251, 250, 250, 250, 250,\n",
              "        243, 249, 250, 250, 250, 250, 250, 250, 250, 250, 250, 250, 250,\n",
              "        250, 250],\n",
              "       [250, 250, 250, 250, 250, 251, 245, 245, 251, 250, 250, 250, 249,\n",
              "        242, 250, 250, 250, 250, 250, 250, 250, 250, 250, 250, 250, 250,\n",
              "        250, 250],\n",
              "       [250, 250, 250, 250, 250, 250, 240, 249, 250, 250, 250, 251, 244,\n",
              "        245, 251, 250, 250, 250, 250, 250, 250, 250, 250, 250, 250, 250,\n",
              "        250, 250],\n",
              "       [250, 250, 250, 250, 250, 249, 235, 249, 250, 250, 250, 248, 240,\n",
              "        250, 250, 250, 250, 250, 250, 250, 250, 250, 250, 250, 250, 250,\n",
              "        250, 250],\n",
              "       [250, 250, 250, 250, 250, 247, 240, 244, 251, 251, 250, 238, 248,\n",
              "        250, 250, 250, 250, 250, 250, 250, 250, 250, 250, 250, 250, 250,\n",
              "        250, 250],\n",
              "       [250, 250, 250, 250, 250, 249, 249, 240, 244, 245, 237, 247, 251,\n",
              "        250, 250, 250, 250, 250, 250, 250, 250, 250, 250, 250, 250, 250,\n",
              "        250, 250],\n",
              "       [250, 250, 250, 250, 250, 250, 250, 249, 241, 240, 248, 251, 250,\n",
              "        250, 250, 250, 250, 250, 250, 250, 250, 250, 250, 250, 250, 250,\n",
              "        250, 250],\n",
              "       [250, 250, 250, 250, 250, 250, 250, 250, 251, 251, 250, 250, 250,\n",
              "        250, 250, 250, 250, 250, 250, 250, 250, 250, 250, 250, 250, 250,\n",
              "        250, 250],\n",
              "       [250, 250, 250, 250, 250, 250, 250, 250, 250, 250, 250, 250, 250,\n",
              "        250, 250, 250, 250, 250, 250, 250, 250, 250, 250, 250, 250, 250,\n",
              "        250, 250],\n",
              "       [250, 250, 250, 250, 250, 250, 250, 250, 250, 250, 250, 250, 250,\n",
              "        250, 250, 250, 250, 250, 250, 250, 250, 250, 250, 250, 250, 250,\n",
              "        250, 250],\n",
              "       [250, 250, 250, 250, 250, 250, 250, 250, 250, 250, 250, 250, 250,\n",
              "        250, 250, 250, 250, 250, 250, 250, 250, 250, 250, 250, 250, 250,\n",
              "        250, 250],\n",
              "       [250, 250, 250, 250, 250, 250, 250, 250, 250, 250, 250, 250, 250,\n",
              "        250, 250, 250, 250, 250, 250, 250, 250, 250, 250, 250, 250, 250,\n",
              "        250, 250]], dtype=uint8)"
            ]
          },
          "metadata": {
            "tags": []
          },
          "execution_count": 288
        }
      ]
    },
    {
      "cell_type": "code",
      "metadata": {
        "colab": {
          "base_uri": "https://localhost:8080/"
        },
        "id": "gPVU91E5TtWO",
        "outputId": "6f57a30d-c450-4edf-86e4-21a5b3155694"
      },
      "source": [
        "im.max()"
      ],
      "execution_count": 289,
      "outputs": [
        {
          "output_type": "execute_result",
          "data": {
            "text/plain": [
              "251"
            ]
          },
          "metadata": {
            "tags": []
          },
          "execution_count": 289
        }
      ]
    },
    {
      "cell_type": "code",
      "metadata": {
        "colab": {
          "base_uri": "https://localhost:8080/"
        },
        "id": "FjfLmAqzdid2",
        "outputId": "d43d5b84-5577-45e4-bb27-8a364d90a9fa"
      },
      "source": [
        "print(im.shape)"
      ],
      "execution_count": 290,
      "outputs": [
        {
          "output_type": "stream",
          "text": [
            "(28, 28)\n"
          ],
          "name": "stdout"
        }
      ]
    },
    {
      "cell_type": "code",
      "metadata": {
        "id": "rX4VOywPdnrF"
      },
      "source": [
        "# load each image, run the initial conversion steps, combine in a list\n",
        "new_images = []\n",
        "new_size = (28,28)\n",
        "for im in images[:25]:\n",
        "  im = Image.open(im).convert(\"L\").resize(new_size)\n",
        "  new_images.append(np.array(im))\n",
        "  "
      ],
      "execution_count": 291,
      "outputs": []
    },
    {
      "cell_type": "code",
      "metadata": {
        "colab": {
          "base_uri": "https://localhost:8080/"
        },
        "id": "gOnKYvw5Ub-D",
        "outputId": "c3ce39bb-92ed-4927-bd5d-822c441a3add"
      },
      "source": [
        "new_images[0].shape"
      ],
      "execution_count": 292,
      "outputs": [
        {
          "output_type": "execute_result",
          "data": {
            "text/plain": [
              "(28, 28)"
            ]
          },
          "metadata": {
            "tags": []
          },
          "execution_count": 292
        }
      ]
    },
    {
      "cell_type": "code",
      "metadata": {
        "colab": {
          "base_uri": "https://localhost:8080/"
        },
        "id": "W4Gn0zR5eRxR",
        "outputId": "0eff6a35-f96a-4ce6-96d5-135adfc94618"
      },
      "source": [
        "# \"stack\" the arrays\n",
        "x_train_letters = np.stack(new_images)\n",
        "print(x_train_letters.shape)"
      ],
      "execution_count": 293,
      "outputs": [
        {
          "output_type": "stream",
          "text": [
            "(25, 28, 28)\n"
          ],
          "name": "stdout"
        }
      ]
    },
    {
      "cell_type": "code",
      "metadata": {
        "colab": {
          "base_uri": "https://localhost:8080/"
        },
        "id": "-BtqYyWi23wW",
        "outputId": "286be73b-a702-4cd8-8596-a48eb1bfba5b"
      },
      "source": [
        "y = np.array([0]*5 + [1]*5 + [2]*5 + [3]*5 + [4]*5)\n",
        "set(y)\n",
        "\n",
        "#y = np.array([1] + [2] + [3] + [4] + [5] + [6] + [7] + [8] + [9] + [10] + [11] + [12] + [13] + [14] + [15] + [16] + [17] + [18] + [19] + [20] + [21] + [22] + [23] + [24] + [25] + [26] )\n",
        "#y = np.array(1 + 2 + 3 + 4 + 5 + 6 + 7 + 8 + 9 + 10 + 11 + 12 + 13 + 14 + 15 + 16 + 17 + 18 + 19 + 20 + 21 + 22 + 23 + 24 + 25 + 26 + 27)"
      ],
      "execution_count": 294,
      "outputs": [
        {
          "output_type": "execute_result",
          "data": {
            "text/plain": [
              "{0, 1, 2, 3, 4}"
            ]
          },
          "metadata": {
            "tags": []
          },
          "execution_count": 294
        }
      ]
    },
    {
      "cell_type": "code",
      "metadata": {
        "colab": {
          "base_uri": "https://localhost:8080/",
          "height": 198
        },
        "id": "BGoG9Wgimecs",
        "outputId": "2f3881f3-2642-4191-c32b-32de5a28dd87"
      },
      "source": [
        "from sklearn.model_selection import train_test_split\n",
        "(x_train_letters, y_train_letters), (x_test_letters, y_test_letters) = train_test_split(\n",
        " x_train_letters, y, test_size=0.33, random_state=42)\n"
      ],
      "execution_count": 295,
      "outputs": [
        {
          "output_type": "error",
          "ename": "ValueError",
          "evalue": "ignored",
          "traceback": [
            "\u001b[0;31m---------------------------------------------------------------------------\u001b[0m",
            "\u001b[0;31mValueError\u001b[0m                                Traceback (most recent call last)",
            "\u001b[0;32m<ipython-input-295-84209bf35448>\u001b[0m in \u001b[0;36m<module>\u001b[0;34m()\u001b[0m\n\u001b[1;32m      1\u001b[0m \u001b[0;32mfrom\u001b[0m \u001b[0msklearn\u001b[0m\u001b[0;34m.\u001b[0m\u001b[0mmodel_selection\u001b[0m \u001b[0;32mimport\u001b[0m \u001b[0mtrain_test_split\u001b[0m\u001b[0;34m\u001b[0m\u001b[0;34m\u001b[0m\u001b[0m\n\u001b[1;32m      2\u001b[0m (x_train_letters, y_train_letters), (x_test_letters, y_test_letters) = train_test_split(\n\u001b[0;32m----> 3\u001b[0;31m  x_train_letters, y, test_size=0.33, random_state=42)\n\u001b[0m",
            "\u001b[0;31mValueError\u001b[0m: too many values to unpack (expected 2)"
          ]
        }
      ]
    },
    {
      "cell_type": "code",
      "metadata": {
        "colab": {
          "base_uri": "https://localhost:8080/",
          "height": 232
        },
        "id": "YoAhCu1E6idF",
        "outputId": "ca0b6d53-c007-4874-f8b0-0df7e4487524"
      },
      "source": [
        "#import numpy\n",
        "\n",
        "#indices = numpy.random.permutation(x_train_letters.shape[0])\n",
        "#training_idx, test_idx = indices[:75], indices[75:]\n",
        "#x_train_letter, x_test_letter = x_train_letters[training_idx,:]/255, x_train_letters[test_idx,:]/255\n",
        "#y_train_letter, y_test_letter = y[training_idx,:], y[test_idx,:]\n",
        "#y_train_letter = y_train_image.astype(np.uint8)\"\"\n"
      ],
      "execution_count": 296,
      "outputs": [
        {
          "output_type": "error",
          "ename": "IndexError",
          "evalue": "ignored",
          "traceback": [
            "\u001b[0;31m---------------------------------------------------------------------------\u001b[0m",
            "\u001b[0;31mIndexError\u001b[0m                                Traceback (most recent call last)",
            "\u001b[0;32m<ipython-input-296-b6960b527860>\u001b[0m in \u001b[0;36m<module>\u001b[0;34m()\u001b[0m\n\u001b[1;32m      4\u001b[0m \u001b[0mtraining_idx\u001b[0m\u001b[0;34m,\u001b[0m \u001b[0mtest_idx\u001b[0m \u001b[0;34m=\u001b[0m \u001b[0mindices\u001b[0m\u001b[0;34m[\u001b[0m\u001b[0;34m:\u001b[0m\u001b[0;36m75\u001b[0m\u001b[0;34m]\u001b[0m\u001b[0;34m,\u001b[0m \u001b[0mindices\u001b[0m\u001b[0;34m[\u001b[0m\u001b[0;36m75\u001b[0m\u001b[0;34m:\u001b[0m\u001b[0;34m]\u001b[0m\u001b[0;34m\u001b[0m\u001b[0;34m\u001b[0m\u001b[0m\n\u001b[1;32m      5\u001b[0m \u001b[0mx_train_letter\u001b[0m\u001b[0;34m,\u001b[0m \u001b[0mx_test_letter\u001b[0m \u001b[0;34m=\u001b[0m \u001b[0mx_train_letters\u001b[0m\u001b[0;34m[\u001b[0m\u001b[0mtraining_idx\u001b[0m\u001b[0;34m,\u001b[0m\u001b[0;34m:\u001b[0m\u001b[0;34m]\u001b[0m\u001b[0;34m/\u001b[0m\u001b[0;36m255\u001b[0m\u001b[0;34m,\u001b[0m \u001b[0mx_train_letters\u001b[0m\u001b[0;34m[\u001b[0m\u001b[0mtest_idx\u001b[0m\u001b[0;34m,\u001b[0m\u001b[0;34m:\u001b[0m\u001b[0;34m]\u001b[0m\u001b[0;34m/\u001b[0m\u001b[0;36m255\u001b[0m\u001b[0;34m\u001b[0m\u001b[0;34m\u001b[0m\u001b[0m\n\u001b[0;32m----> 6\u001b[0;31m \u001b[0my_train_letter\u001b[0m\u001b[0;34m,\u001b[0m \u001b[0my_test_letter\u001b[0m \u001b[0;34m=\u001b[0m \u001b[0my\u001b[0m\u001b[0;34m[\u001b[0m\u001b[0mtraining_idx\u001b[0m\u001b[0;34m,\u001b[0m\u001b[0;34m:\u001b[0m\u001b[0;34m]\u001b[0m\u001b[0;34m,\u001b[0m \u001b[0my\u001b[0m\u001b[0;34m[\u001b[0m\u001b[0mtest_idx\u001b[0m\u001b[0;34m,\u001b[0m\u001b[0;34m:\u001b[0m\u001b[0;34m]\u001b[0m\u001b[0;34m\u001b[0m\u001b[0;34m\u001b[0m\u001b[0m\n\u001b[0m\u001b[1;32m      7\u001b[0m \u001b[0my_train_letter\u001b[0m \u001b[0;34m=\u001b[0m \u001b[0my_train_image\u001b[0m\u001b[0;34m.\u001b[0m\u001b[0mastype\u001b[0m\u001b[0;34m(\u001b[0m\u001b[0mnp\u001b[0m\u001b[0;34m.\u001b[0m\u001b[0muint8\u001b[0m\u001b[0;34m)\u001b[0m\u001b[0;34m\u001b[0m\u001b[0;34m\u001b[0m\u001b[0m\n",
            "\u001b[0;31mIndexError\u001b[0m: too many indices for array: array is 1-dimensional, but 2 were indexed"
          ]
        }
      ]
    },
    {
      "cell_type": "code",
      "metadata": {
        "id": "VK6PXBcZdSxX"
      },
      "source": [
        "# divide by the color channel\n",
        "x_train_letters = x_train_letters / 251.\n",
        "x_test_train = x_test / 251."
      ],
      "execution_count": 297,
      "outputs": []
    },
    {
      "cell_type": "code",
      "metadata": {
        "colab": {
          "base_uri": "https://localhost:8080/"
        },
        "id": "3veX_dX1geoT",
        "outputId": "045f6807-2035-44ba-c0db-7f7958f6c949"
      },
      "source": [
        "# as done in mnist add the color channel\n",
        "x_train_letters = x_train_letters.reshape((25,28,28,1))\n",
        "x_train_letters.shape"
      ],
      "execution_count": 298,
      "outputs": [
        {
          "output_type": "execute_result",
          "data": {
            "text/plain": [
              "(25, 28, 28, 1)"
            ]
          },
          "metadata": {
            "tags": []
          },
          "execution_count": 298
        }
      ]
    },
    {
      "cell_type": "code",
      "metadata": {
        "id": "8286w1USNAN6"
      },
      "source": [
        "# add the color channel\n",
        "x_train = x_train.reshape(x_train.shape + (1,))\n",
        "x_test = x_test.reshape(x_test.shape + (1,))"
      ],
      "execution_count": 299,
      "outputs": []
    },
    {
      "cell_type": "code",
      "metadata": {
        "colab": {
          "base_uri": "https://localhost:8080/"
        },
        "id": "FKsP15RXaQre",
        "outputId": "f63222aa-4747-46eb-a14a-0ba42100f05c"
      },
      "source": [
        "print(y.shape)"
      ],
      "execution_count": 300,
      "outputs": [
        {
          "output_type": "stream",
          "text": [
            "(25,)\n"
          ],
          "name": "stdout"
        }
      ]
    },
    {
      "cell_type": "code",
      "metadata": {
        "colab": {
          "base_uri": "https://localhost:8080/",
          "height": 1000
        },
        "id": "xpMcBzrmZjYu",
        "outputId": "fb0fa851-247f-4c29-a88a-7d070c65cd39"
      },
      "source": [
        "# Look at some random Alphabet\n",
        "X_shuffle = shuffle(x_train_letters.copy(), random_state=42)\n",
        "\n",
        "print('Look at some numbers\\n')\n",
        "plt.figure(figsize = (12,10))\n",
        "row, colums = 4, 4\n",
        "for i in range(25):\n",
        "    plt.subplot(colums, row, i+1)\n",
        "    plt.imshow(X_shuffle[i].reshape(28,28),interpolation='nearest', cmap='Greys')\n",
        "plt.show()"
      ],
      "execution_count": 304,
      "outputs": [
        {
          "output_type": "stream",
          "text": [
            "Look at some numbers\n",
            "\n"
          ],
          "name": "stdout"
        },
        {
          "output_type": "error",
          "ename": "ValueError",
          "evalue": "ignored",
          "traceback": [
            "\u001b[0;31m---------------------------------------------------------------------------\u001b[0m",
            "\u001b[0;31mValueError\u001b[0m                                Traceback (most recent call last)",
            "\u001b[0;32m<ipython-input-304-621a51361a34>\u001b[0m in \u001b[0;36m<module>\u001b[0;34m()\u001b[0m\n\u001b[1;32m      6\u001b[0m \u001b[0mrow\u001b[0m\u001b[0;34m,\u001b[0m \u001b[0mcolums\u001b[0m \u001b[0;34m=\u001b[0m \u001b[0;36m4\u001b[0m\u001b[0;34m,\u001b[0m \u001b[0;36m4\u001b[0m\u001b[0;34m\u001b[0m\u001b[0;34m\u001b[0m\u001b[0m\n\u001b[1;32m      7\u001b[0m \u001b[0;32mfor\u001b[0m \u001b[0mi\u001b[0m \u001b[0;32min\u001b[0m \u001b[0mrange\u001b[0m\u001b[0;34m(\u001b[0m\u001b[0;36m25\u001b[0m\u001b[0;34m)\u001b[0m\u001b[0;34m:\u001b[0m\u001b[0;34m\u001b[0m\u001b[0;34m\u001b[0m\u001b[0m\n\u001b[0;32m----> 8\u001b[0;31m     \u001b[0mplt\u001b[0m\u001b[0;34m.\u001b[0m\u001b[0msubplot\u001b[0m\u001b[0;34m(\u001b[0m\u001b[0mcolums\u001b[0m\u001b[0;34m,\u001b[0m \u001b[0mrow\u001b[0m\u001b[0;34m,\u001b[0m \u001b[0mi\u001b[0m\u001b[0;34m+\u001b[0m\u001b[0;36m1\u001b[0m\u001b[0;34m)\u001b[0m\u001b[0;34m\u001b[0m\u001b[0;34m\u001b[0m\u001b[0m\n\u001b[0m\u001b[1;32m      9\u001b[0m     \u001b[0mplt\u001b[0m\u001b[0;34m.\u001b[0m\u001b[0mimshow\u001b[0m\u001b[0;34m(\u001b[0m\u001b[0mX_shuffle\u001b[0m\u001b[0;34m[\u001b[0m\u001b[0mi\u001b[0m\u001b[0;34m]\u001b[0m\u001b[0;34m.\u001b[0m\u001b[0mreshape\u001b[0m\u001b[0;34m(\u001b[0m\u001b[0;36m28\u001b[0m\u001b[0;34m,\u001b[0m\u001b[0;36m28\u001b[0m\u001b[0;34m)\u001b[0m\u001b[0;34m,\u001b[0m\u001b[0minterpolation\u001b[0m\u001b[0;34m=\u001b[0m\u001b[0;34m'nearest'\u001b[0m\u001b[0;34m,\u001b[0m \u001b[0mcmap\u001b[0m\u001b[0;34m=\u001b[0m\u001b[0;34m'Greys'\u001b[0m\u001b[0;34m)\u001b[0m\u001b[0;34m\u001b[0m\u001b[0;34m\u001b[0m\u001b[0m\n\u001b[1;32m     10\u001b[0m \u001b[0mplt\u001b[0m\u001b[0;34m.\u001b[0m\u001b[0mshow\u001b[0m\u001b[0;34m(\u001b[0m\u001b[0;34m)\u001b[0m\u001b[0;34m\u001b[0m\u001b[0;34m\u001b[0m\u001b[0m\n",
            "\u001b[0;32m/usr/local/lib/python3.7/dist-packages/matplotlib/pyplot.py\u001b[0m in \u001b[0;36msubplot\u001b[0;34m(*args, **kwargs)\u001b[0m\n\u001b[1;32m   1028\u001b[0m \u001b[0;34m\u001b[0m\u001b[0m\n\u001b[1;32m   1029\u001b[0m     \u001b[0mfig\u001b[0m \u001b[0;34m=\u001b[0m \u001b[0mgcf\u001b[0m\u001b[0;34m(\u001b[0m\u001b[0;34m)\u001b[0m\u001b[0;34m\u001b[0m\u001b[0;34m\u001b[0m\u001b[0m\n\u001b[0;32m-> 1030\u001b[0;31m     \u001b[0ma\u001b[0m \u001b[0;34m=\u001b[0m \u001b[0mfig\u001b[0m\u001b[0;34m.\u001b[0m\u001b[0madd_subplot\u001b[0m\u001b[0;34m(\u001b[0m\u001b[0;34m*\u001b[0m\u001b[0margs\u001b[0m\u001b[0;34m,\u001b[0m \u001b[0;34m**\u001b[0m\u001b[0mkwargs\u001b[0m\u001b[0;34m)\u001b[0m\u001b[0;34m\u001b[0m\u001b[0;34m\u001b[0m\u001b[0m\n\u001b[0m\u001b[1;32m   1031\u001b[0m     \u001b[0mbbox\u001b[0m \u001b[0;34m=\u001b[0m \u001b[0ma\u001b[0m\u001b[0;34m.\u001b[0m\u001b[0mbbox\u001b[0m\u001b[0;34m\u001b[0m\u001b[0;34m\u001b[0m\u001b[0m\n\u001b[1;32m   1032\u001b[0m     \u001b[0mbyebye\u001b[0m \u001b[0;34m=\u001b[0m \u001b[0;34m[\u001b[0m\u001b[0;34m]\u001b[0m\u001b[0;34m\u001b[0m\u001b[0;34m\u001b[0m\u001b[0m\n",
            "\u001b[0;32m/usr/local/lib/python3.7/dist-packages/matplotlib/figure.py\u001b[0m in \u001b[0;36madd_subplot\u001b[0;34m(self, *args, **kwargs)\u001b[0m\n\u001b[1;32m   1417\u001b[0m                     \u001b[0mself\u001b[0m\u001b[0;34m.\u001b[0m\u001b[0m_axstack\u001b[0m\u001b[0;34m.\u001b[0m\u001b[0mremove\u001b[0m\u001b[0;34m(\u001b[0m\u001b[0max\u001b[0m\u001b[0;34m)\u001b[0m\u001b[0;34m\u001b[0m\u001b[0;34m\u001b[0m\u001b[0m\n\u001b[1;32m   1418\u001b[0m \u001b[0;34m\u001b[0m\u001b[0m\n\u001b[0;32m-> 1419\u001b[0;31m             \u001b[0ma\u001b[0m \u001b[0;34m=\u001b[0m \u001b[0msubplot_class_factory\u001b[0m\u001b[0;34m(\u001b[0m\u001b[0mprojection_class\u001b[0m\u001b[0;34m)\u001b[0m\u001b[0;34m(\u001b[0m\u001b[0mself\u001b[0m\u001b[0;34m,\u001b[0m \u001b[0;34m*\u001b[0m\u001b[0margs\u001b[0m\u001b[0;34m,\u001b[0m \u001b[0;34m**\u001b[0m\u001b[0mkwargs\u001b[0m\u001b[0;34m)\u001b[0m\u001b[0;34m\u001b[0m\u001b[0;34m\u001b[0m\u001b[0m\n\u001b[0m\u001b[1;32m   1420\u001b[0m \u001b[0;34m\u001b[0m\u001b[0m\n\u001b[1;32m   1421\u001b[0m         \u001b[0;32mreturn\u001b[0m \u001b[0mself\u001b[0m\u001b[0;34m.\u001b[0m\u001b[0m_add_axes_internal\u001b[0m\u001b[0;34m(\u001b[0m\u001b[0mkey\u001b[0m\u001b[0;34m,\u001b[0m \u001b[0ma\u001b[0m\u001b[0;34m)\u001b[0m\u001b[0;34m\u001b[0m\u001b[0;34m\u001b[0m\u001b[0m\n",
            "\u001b[0;32m/usr/local/lib/python3.7/dist-packages/matplotlib/axes/_subplots.py\u001b[0m in \u001b[0;36m__init__\u001b[0;34m(self, fig, *args, **kwargs)\u001b[0m\n\u001b[1;32m     64\u001b[0m                 \u001b[0;32mif\u001b[0m \u001b[0mnum\u001b[0m \u001b[0;34m<\u001b[0m \u001b[0;36m1\u001b[0m \u001b[0;32mor\u001b[0m \u001b[0mnum\u001b[0m \u001b[0;34m>\u001b[0m \u001b[0mrows\u001b[0m\u001b[0;34m*\u001b[0m\u001b[0mcols\u001b[0m\u001b[0;34m:\u001b[0m\u001b[0;34m\u001b[0m\u001b[0;34m\u001b[0m\u001b[0m\n\u001b[1;32m     65\u001b[0m                     raise ValueError(\n\u001b[0;32m---> 66\u001b[0;31m                         f\"num must be 1 <= num <= {rows*cols}, not {num}\")\n\u001b[0m\u001b[1;32m     67\u001b[0m                 self._subplotspec = GridSpec(\n\u001b[1;32m     68\u001b[0m                         rows, cols, figure=self.figure)[int(num) - 1]\n",
            "\u001b[0;31mValueError\u001b[0m: num must be 1 <= num <= 16, not 17"
          ]
        },
        {
          "output_type": "display_data",
          "data": {
            "image/png": "[encoded data removed]",
            "text/plain": [
              "<Figure size 864x720 with 16 Axes>"
            ]
          },
          "metadata": {
            "tags": [],
            "needs_background": "light"
          }
        }
      ]
    },
    {
      "cell_type": "code",
      "metadata": {
        "colab": {
          "base_uri": "https://localhost:8080/"
        },
        "id": "g9C_eRNhUbkA",
        "outputId": "114d7f73-265d-4970-fe13-bca683b2981e"
      },
      "source": [
        "# lock the ConvNet layers\n",
        "layer_trainable = False\n",
        "for layer in model.layers:\n",
        "  layer.trainable = layer_trainable\n",
        "  if layer.name == 'flatten':\n",
        "    layer_trainable = True\n",
        "\n",
        "print(f\"{'Layer Name':17} {'Is Trainable?'}\")\n",
        "for layer in model.layers:\n",
        "  print(f\"{layer.name:17} {layer.trainable}\")"
      ],
      "execution_count": 305,
      "outputs": [
        {
          "output_type": "stream",
          "text": [
            "Layer Name        Is Trainable?\n",
            "conv2d_6          False\n",
            "max_pooling2d_6   False\n",
            "conv2d_7          False\n",
            "max_pooling2d_7   False\n",
            "flatten           False\n",
            "dropout_3         True\n",
            "dense_9           True\n",
            "penult            True\n",
            "last              True\n"
          ],
          "name": "stdout"
        }
      ]
    },
    {
      "cell_type": "code",
      "metadata": {
        "id": "1aeuhkRAUiDv"
      },
      "source": [
        "# get the penultimate layer of the model\n",
        "penult_layer = model.get_layer(name='penult')\n",
        "\n",
        "# create a new output layer\n",
        "output_layer = keras.layers.Dense(5, activation='softmax')(penult_layer.output)\n",
        "\n",
        "# create new model with new output layer\n",
        "new_model = Model(model.input, output_layer)"
      ],
      "execution_count": 306,
      "outputs": []
    },
    {
      "cell_type": "code",
      "metadata": {
        "colab": {
          "base_uri": "https://localhost:8080/"
        },
        "id": "QHFYbqofUlMv",
        "outputId": "37771070-eebe-440c-e890-f8cc8f748bc8"
      },
      "source": [
        "new_model.summary()"
      ],
      "execution_count": 307,
      "outputs": [
        {
          "output_type": "stream",
          "text": [
            "Model: \"model_6\"\n",
            "_________________________________________________________________\n",
            "Layer (type)                 Output Shape              Param #   \n",
            "=================================================================\n",
            "conv2d_6_input (InputLayer)  [(None, 28, 28, 1)]       0         \n",
            "_________________________________________________________________\n",
            "conv2d_6 (Conv2D)            (None, 26, 26, 32)        320       \n",
            "_________________________________________________________________\n",
            "max_pooling2d_6 (MaxPooling2 (None, 13, 13, 32)        0         \n",
            "_________________________________________________________________\n",
            "conv2d_7 (Conv2D)            (None, 11, 11, 32)        9248      \n",
            "_________________________________________________________________\n",
            "max_pooling2d_7 (MaxPooling2 (None, 5, 5, 32)          0         \n",
            "_________________________________________________________________\n",
            "flatten (Flatten)            (None, 800)               0         \n",
            "_________________________________________________________________\n",
            "dropout_3 (Dropout)          (None, 800)               0         \n",
            "_________________________________________________________________\n",
            "dense_9 (Dense)              (None, 128)               102528    \n",
            "_________________________________________________________________\n",
            "penult (Dropout)             (None, 128)               0         \n",
            "_________________________________________________________________\n",
            "dense_10 (Dense)             (None, 5)                 645       \n",
            "=================================================================\n",
            "Total params: 112,741\n",
            "Trainable params: 103,173\n",
            "Non-trainable params: 9,568\n",
            "_________________________________________________________________\n"
          ],
          "name": "stdout"
        }
      ]
    },
    {
      "cell_type": "code",
      "metadata": {
        "colab": {
          "base_uri": "https://localhost:8080/"
        },
        "id": "V6fg8w7vUo8L",
        "outputId": "673d838c-9b26-4e53-f113-e458006055a8"
      },
      "source": [
        "new_model.compile(loss='sparse_categorical_crossentropy',\n",
        "                  optimizer='adam',\n",
        "                  metrics=['accuracy'])\n",
        "\n",
        "new_model_hist = new_model.fit(x_train_letter, y,\n",
        "                               validation_split=0.2,\n",
        "                               #validation_data=(y_train, y_test),\n",
        "                              batch_size=32,\n",
        "                              epochs=1000,\n",
        "                              callbacks=[es])"
      ],
      "execution_count": 315,
      "outputs": [
        {
          "output_type": "stream",
          "text": [
            "Epoch 1/1000\n",
            "1/1 [==============================] - 1s 963ms/step - loss: 1.6085 - accuracy: 0.2500 - val_loss: 1.6149 - val_accuracy: 0.0000e+00\n",
            "Epoch 2/1000\n",
            "1/1 [==============================] - 0s 34ms/step - loss: 1.6081 - accuracy: 0.2500 - val_loss: 1.6166 - val_accuracy: 0.0000e+00\n",
            "Epoch 3/1000\n",
            "1/1 [==============================] - 0s 31ms/step - loss: 1.6077 - accuracy: 0.2500 - val_loss: 1.6182 - val_accuracy: 0.0000e+00\n"
          ],
          "name": "stdout"
        }
      ]
    },
    {
      "cell_type": "code",
      "metadata": {
        "colab": {
          "base_uri": "https://localhost:8080/"
        },
        "id": "sxAHtMEVYpwO",
        "outputId": "54b89adf-74f3-40c8-d0fe-66511075f058"
      },
      "source": [
        "# predict using the model\n",
        "preds_New = new_model.predict(x_test)\n",
        "print(preds_New)"
      ],
      "execution_count": 336,
      "outputs": [
        {
          "output_type": "stream",
          "text": [
            "[[0.30384907 0.27001327 0.18280417 0.0926122  0.1507213 ]\n",
            " [0.3597723  0.20429084 0.14514484 0.12933846 0.1614536 ]\n",
            " [0.15101716 0.07800202 0.23571633 0.29577395 0.23949061]\n",
            " ...\n",
            " [0.12538101 0.19535066 0.06519274 0.3187039  0.29537174]\n",
            " [0.33239874 0.10996535 0.23486759 0.11516452 0.20760387]\n",
            " [0.16773288 0.15130383 0.05947857 0.3746917  0.24679302]]\n"
          ],
          "name": "stdout"
        }
      ]
    },
    {
      "cell_type": "code",
      "metadata": {
        "colab": {
          "base_uri": "https://localhost:8080/"
        },
        "id": "X1P48wTBY8c8",
        "outputId": "cc8f57d8-d78d-46c4-8eaf-55637c60a02f"
      },
      "source": [
        "# classify the test set\n",
        "\n",
        "# argmax along rows to get classification\n",
        "preds_New = np.argmax(preds, axis=1).astype(\"uint8\")\n",
        "\n",
        "accuracy_score(y_test, preds_New)"
      ],
      "execution_count": 338,
      "outputs": [
        {
          "output_type": "execute_result",
          "data": {
            "text/plain": [
              "0.13625"
            ]
          },
          "metadata": {
            "tags": []
          },
          "execution_count": 338
        }
      ]
    },
    {
      "cell_type": "code",
      "metadata": {
        "id": "znNwSgrQWA0A"
      },
      "source": [
        "def plot_training_curves(new_model_hist, title=None):\n",
        "    ''' Plot the training curves for loss and accuracy given a model history\n",
        "    '''\n",
        "    # find the minimum loss epoch\n",
        "    minimum = np.min(new_model_hist.new_model_hist['val_loss'])\n",
        "    min_loc = np.where(minimum == new_model_hist.new_model_hist['val_loss'])[0]\n",
        "    # get the vline y-min and y-max\n",
        "    loss_min, loss_max = (min(new_model_hist.new_model_hist['val_loss'] + new_model_hist.new_model_hist['loss']),\n",
        "                          max(new_model_hist.new_model_hist['val_loss'] + new_model_hist.new_model_hist['loss']))\n",
        "    acc_min, acc_max = (min(new_model_hist.new_model_hist['val_accuracy'] + new_model_hist.new_model_hist['accuracy']),\n",
        "                        max(new_model_hist.new_model_hist['val_accuracy'] + new_model_hist.new_model_hist['accuracy']))\n",
        "    # create figure\n",
        "    fig, ax = plt.subplots(ncols=2, figsize = (15,7))\n",
        "    fig.suptitle(title)\n",
        "    index = np.arange(1, len(new_model_hist.new_model_hist['accuracy']) + 1)\n",
        "    # plot the loss and validation loss\n",
        "    ax[0].plot(index, new_model_hist.new_model_hist['loss'], label = 'loss')\n",
        "    ax[0].plot(index, new_model_hist.new_model_hist['val_loss'], label = 'val_loss')\n",
        "    ax[0].vlines(min_loc + 1, loss_min, loss_max, label = 'min_loss_location')\n",
        "    ax[0].set_title('Loss')\n",
        "    ax[0].set_ylabel('Loss')\n",
        "    ax[0].set_xlabel('Epochs')\n",
        "    ax[0].legend()\n",
        "    # plot the accuracy and validation accuracy\n",
        "    ax[1].plot(index, new_model_hist.new_model_hist['accuracy'], label = 'accuracy')\n",
        "    ax[1].plot(index, new_model_hist.new_model_hist['val_accuracy'], label = 'val_accuracy')\n",
        "    ax[1].vlines(min_loc + 1, acc_min, acc_max, label = 'min_loss_location')\n",
        "    ax[1].set_title('Accuracy')\n",
        "    ax[1].set_ylabel('Accuracy')\n",
        "    ax[1].set_xlabel('Epochs')\n",
        "    ax[1].legend()\n",
        "    plt.show()"
      ],
      "execution_count": 331,
      "outputs": []
    },
    {
      "cell_type": "code",
      "metadata": {
        "colab": {
          "base_uri": "https://localhost:8080/",
          "height": 283
        },
        "id": "qp1DFILMXAvd",
        "outputId": "7a4af8ef-a9d5-4ae2-8182-18ecdf710789"
      },
      "source": [
        "plot_training_curves(new_model_hist)"
      ],
      "execution_count": 330,
      "outputs": [
        {
          "output_type": "error",
          "ename": "AttributeError",
          "evalue": "ignored",
          "traceback": [
            "\u001b[0;31m---------------------------------------------------------------------------\u001b[0m",
            "\u001b[0;31mAttributeError\u001b[0m                            Traceback (most recent call last)",
            "\u001b[0;32m<ipython-input-330-cdc4e5844ca8>\u001b[0m in \u001b[0;36m<module>\u001b[0;34m()\u001b[0m\n\u001b[0;32m----> 1\u001b[0;31m \u001b[0mplot_training_curves\u001b[0m\u001b[0;34m(\u001b[0m\u001b[0mnew_model_hist\u001b[0m\u001b[0;34m)\u001b[0m\u001b[0;34m\u001b[0m\u001b[0;34m\u001b[0m\u001b[0m\n\u001b[0m",
            "\u001b[0;32m<ipython-input-329-af3decf7425b>\u001b[0m in \u001b[0;36mplot_training_curves\u001b[0;34m(new_model_hist, title)\u001b[0m\n\u001b[1;32m      3\u001b[0m     '''\n\u001b[1;32m      4\u001b[0m     \u001b[0;31m# find the minimum loss epoch\u001b[0m\u001b[0;34m\u001b[0m\u001b[0;34m\u001b[0m\u001b[0;34m\u001b[0m\u001b[0m\n\u001b[0;32m----> 5\u001b[0;31m     \u001b[0mminimum\u001b[0m \u001b[0;34m=\u001b[0m \u001b[0mnp\u001b[0m\u001b[0;34m.\u001b[0m\u001b[0mmin\u001b[0m\u001b[0;34m(\u001b[0m\u001b[0mhistory\u001b[0m\u001b[0;34m.\u001b[0m\u001b[0mnew_model_hist\u001b[0m\u001b[0;34m[\u001b[0m\u001b[0;34m'val_loss'\u001b[0m\u001b[0;34m]\u001b[0m\u001b[0;34m)\u001b[0m\u001b[0;34m\u001b[0m\u001b[0;34m\u001b[0m\u001b[0m\n\u001b[0m\u001b[1;32m      6\u001b[0m     \u001b[0mmin_loc\u001b[0m \u001b[0;34m=\u001b[0m \u001b[0mnp\u001b[0m\u001b[0;34m.\u001b[0m\u001b[0mwhere\u001b[0m\u001b[0;34m(\u001b[0m\u001b[0mminimum\u001b[0m \u001b[0;34m==\u001b[0m \u001b[0mhistory\u001b[0m\u001b[0;34m.\u001b[0m\u001b[0mnew_model_hist\u001b[0m\u001b[0;34m[\u001b[0m\u001b[0;34m'val_loss'\u001b[0m\u001b[0;34m]\u001b[0m\u001b[0;34m)\u001b[0m\u001b[0;34m[\u001b[0m\u001b[0;36m0\u001b[0m\u001b[0;34m]\u001b[0m\u001b[0;34m\u001b[0m\u001b[0;34m\u001b[0m\u001b[0m\n\u001b[1;32m      7\u001b[0m     \u001b[0;31m# get the vline y-min and y-max\u001b[0m\u001b[0;34m\u001b[0m\u001b[0;34m\u001b[0m\u001b[0;34m\u001b[0m\u001b[0m\n",
            "\u001b[0;31mAttributeError\u001b[0m: 'History' object has no attribute 'new_model_hist'"
          ]
        }
      ]
    },
    {
      "cell_type": "markdown",
      "metadata": {
        "id": "slMWbaaNX5ti"
      },
      "source": [
        "## For Next Week\n",
        "\n"
      ]
    },
    {
      "cell_type": "markdown",
      "metadata": {
        "id": "fnXuAFqcf1f3"
      },
      "source": [
        "1. Start working on your dataset\n",
        "2. Write the code to bring in your dataset (resize images to same as mnist)\n",
        "3. Write the code to preprocess your dataset (same as mnist)"
      ]
    },
    {
      "cell_type": "markdown",
      "metadata": {
        "id": "Ik4HHzqYG3Ry"
      },
      "source": [
        ""
      ]
    }
  ]
}